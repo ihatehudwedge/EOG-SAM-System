{
 "cells": [
  {
   "cell_type": "code",
   "execution_count": null,
   "metadata": {},
   "outputs": [],
   "source": [
    "#YOLO 모델 불러오기\n",
    "!git clone https://github.com/ultralytics/yolov5.git\n",
    "%pip install -r yolov5/requirements.txt"
   ]
  },
  {
   "cell_type": "code",
   "execution_count": null,
   "metadata": {},
   "outputs": [],
   "source": [
    "#데이터셋 다운로드\n",
    "!kaggle datasets download -d a2015003713/militaryaircraftdetectiondataset"
   ]
  },
  {
   "cell_type": "markdown",
   "metadata": {},
   "source": [
    "받은 zip 압축 풀어주세요"
   ]
  },
  {
   "cell_type": "code",
   "execution_count": 1,
   "metadata": {},
   "outputs": [],
   "source": [
    "from pathlib import Path\n",
    "import numpy as np\n",
    "import PIL.Image as Image\n",
    "import cv2\n",
    "import torch\n",
    "import torchvision\n",
    "from IPython.display import display\n",
    "from sklearn.model_selection import train_test_split\n",
    "import seaborn as sns\n",
    "from pylab import rcParams\n",
    "import matplotlib.pyplot as plt\n",
    "from matplotlib import rc\n",
    "%matplotlib inline\n",
    "%config InlineBackend.figure_format='retina'\n",
    "sns.set(style='whitegrid', palette='muted', font_scale=1.2)\n",
    "rcParams['figure.figsize'] = 16, 10\n",
    "np.random.seed(42)\n",
    "\n",
    "import pandas as pd\n",
    "import glob\n",
    "import os"
   ]
  },
  {
   "cell_type": "code",
   "execution_count": null,
   "metadata": {},
   "outputs": [],
   "source": [
    "# 여러 파일에 접근 가능한 경로 설정\n",
    "dataset_path = \"militaryaircraftdetectiondataset\\\\dataset\\\\\"\n",
    "files = os.path.join(dataset_path, \"*.csv\")\n",
    "files = glob.glob(files)\n",
    "\n",
    "print(\"Joining all CSV files...\")\n",
    "\n",
    "# 파일 조인 시도\n",
    "df = pd.concat(map(pd.read_csv, files), ignore_index=True)\n",
    "print(df)"
   ]
  },
  {
   "cell_type": "code",
   "execution_count": 3,
   "metadata": {},
   "outputs": [
    {
     "name": "stdout",
     "output_type": "stream",
     "text": [
      "['A10', 'A400M', 'AG600', 'AH64', 'AV8B', 'An124', 'An22', 'An225', 'An72', 'B1', 'B2', 'B21', 'B52', 'Be200', 'C130', 'C17', 'C2', 'C390', 'C5', 'CH47', 'CL415', 'E2', 'E7', 'EF2000', 'F117', 'F14', 'F15', 'F16', 'F18', 'F22', 'F35', 'F4', 'H6', 'J10', 'J20', 'JAS39', 'JF17', 'JH7', 'KC135', 'KF21', 'KJ600', 'Ka27', 'Ka52', 'MQ9', 'Mi24', 'Mi26', 'Mi28', 'Mig29', 'Mig31', 'Mirage2000', 'P3', 'RQ4', 'Rafale', 'SR71', 'Su24', 'Su25', 'Su34', 'Su57', 'TB001', 'TB2', 'Tornado', 'Tu160', 'Tu22M', 'Tu95', 'U2', 'UH60', 'US2', 'V22', 'Vulcan', 'WZ7', 'XB70', 'Y20', 'YF23', 'Z19']\n",
      "74\n"
     ]
    }
   ],
   "source": [
    "# 데이터셋 클래스 판단\n",
    "categories = list(set(df[\"class\"]))\n",
    "categories.sort()\n",
    "print(categories)\n",
    "print(len(categories))"
   ]
  },
  {
   "cell_type": "code",
   "execution_count": 4,
   "metadata": {},
   "outputs": [
    {
     "data": {
      "text/plain": [
       "(10965, 7311)"
      ]
     },
     "execution_count": 4,
     "metadata": {},
     "output_type": "execute_result"
    }
   ],
   "source": [
    "#학습(40%), 테스트(60%) 데이터 분리\n",
    "train_data, val_data = train_test_split(files, test_size=0.4)\n",
    "len(train_data), len(val_data)"
   ]
  },
  {
   "cell_type": "code",
   "execution_count": 5,
   "metadata": {},
   "outputs": [],
   "source": [
    "#YOLO 타입에 맞게 bounding box 데이터를 txt 파일로 변환환\n",
    "def convert_csv_to_text(file, path):\n",
    "    import csv\n",
    "    csv_file = file\n",
    "    txt_file = file.split('\\\\')[2][:-4] + '.txt'\n",
    "    with open(os.path.join(path, txt_file), \"w+\") as my_output_file:\n",
    "        with open(csv_file, \"r\") as my_input_file:\n",
    "            reader = csv.reader(my_input_file)\n",
    "            next(reader, None)\n",
    "            for row in reader:\n",
    "                category_idx = categories.index(row[3])\n",
    "                xmin, ymin = int(row[4]), int(row[5])\n",
    "                xmax, ymax = int(row[6]), int(row[7])\n",
    "                bbox_width, bbox_height = int(row[1]), int(row[2])\n",
    "                my_output_file.write(\n",
    "                    f\"{category_idx} {((xmin + xmax) / 2) / bbox_width} {((ymin + ymax) / 2) / bbox_height} {bbox_width/bbox_width} {bbox_height/bbox_height}\\n\"\n",
    "                )\n",
    "    my_input_file.close()\n",
    "    my_output_file.close()\n",
    "    return"
   ]
  },
  {
   "cell_type": "code",
   "execution_count": 6,
   "metadata": {},
   "outputs": [],
   "source": [
    "# 폴더 생성성\n",
    "!mkdir \"{dataset_path}images\\\\train_data\"\n",
    "!mkdir \"{dataset_path}labels\\\\train_data\"\n",
    "!mkdir \"{dataset_path}images\\\\val_data\"\n",
    "!mkdir \"{dataset_path}labels\\\\val_data\""
   ]
  },
  {
   "cell_type": "code",
   "execution_count": 7,
   "metadata": {},
   "outputs": [],
   "source": [
    "import shutil\n",
    "# 데이터셋 정리 및 변환환\n",
    "for i in train_data:\n",
    "    if i not in \"militaryaircraftdetectiondataset\\\\dataset\\\\labels\\\\train_data\":\n",
    "        convert_csv_to_text(i, \"militaryaircraftdetectiondataset\\\\dataset\\\\labels\\\\train_data\")\n",
    "        shutil.copy2(i[:-4] + \".jpg\", \"militaryaircraftdetectiondataset\\\\dataset\\\\images\\\\train_data\")\n",
    "for i in val_data:\n",
    "    if i not in \"militaryaircraftdetectiondataset\\\\dataset\\\\labels\\\\val_data\":\n",
    "        convert_csv_to_text(i, \"militaryaircraftdetectiondataset\\\\dataset\\\\labels\\\\val_data\")\n",
    "        shutil.copy2(i[:-4] + \".jpg\", \"militaryaircraftdetectiondataset\\\\dataset\\\\images\\\\val_data\")"
   ]
  },
  {
   "cell_type": "code",
   "execution_count": 8,
   "metadata": {},
   "outputs": [
    {
     "name": "stdout",
     "output_type": "stream",
     "text": [
      "train: ../militaryaircraftdetectiondataset/dataset/images/train_data/\n",
      "val: ../militaryaircraftdetectiondataset/dataset/images/val_data/\n",
      "nc: 74\n",
      "names: ['A10', 'A400M', 'AG600', 'AH64', 'AV8B', 'An124', 'An22', 'An225', 'An72', 'B1', 'B2', 'B21', 'B52', 'Be200', 'C130', 'C17', 'C2', 'C390', 'C5', 'CH47', 'CL415', 'E2', 'E7', 'EF2000', 'F117', 'F14', 'F15', 'F16', 'F18', 'F22', 'F35', 'F4', 'H6', 'J10', 'J20', 'JAS39', 'JF17', 'JH7', 'KC135', 'KF21', 'KJ600', 'Ka27', 'Ka52', 'MQ9', 'Mi24', 'Mi26', 'Mi28', 'Mig29', 'Mig31', 'Mirage2000', 'P3', 'RQ4', 'Rafale', 'SR71', 'Su24', 'Su25', 'Su34', 'Su57', 'TB001', 'TB2', 'Tornado', 'Tu160', 'Tu22M', 'Tu95', 'U2', 'UH60', 'US2', 'V22', 'Vulcan', 'WZ7', 'XB70', 'Y20', 'YF23', 'Z19']\n"
     ]
    }
   ],
   "source": [
    "# 해당 데이터셋에 맞는 yaml 생성성\n",
    "f = open(\"detection.yaml\", \"w\")\n",
    "f.write(\"train: ../militaryaircraftdetectiondataset/dataset/images/train_data/\")\n",
    "f.write(\"\\nval: ../militaryaircraftdetectiondataset/dataset/images/val_data/\")\n",
    "f.write(\"\\nnc: \" + str(len(categories)))\n",
    "f.write(\"\\nnames: [\" + ', '.join(\"'\" + str(i) + \"'\" for i in categories) + \"]\")\n",
    "f.close()\n",
    "\n",
    "# yaml 파일 읽기 시도\n",
    "f = open(\"detection.yaml\", \"r\")\n",
    "print(f.read())\n",
    "f.close()"
   ]
  },
  {
   "cell_type": "code",
   "execution_count": null,
   "metadata": {},
   "outputs": [],
   "source": [
    "# 학습시도도\n",
    "import torch\n",
    "torch.cuda.empty_cache()\n",
    "\n",
    "#hyp.scratch-low.yaml에서 lr0을 0.001로 수정\n",
    "!python yolov5/train.py --img 640 --batch 8 --epochs 20 --data detection.yaml --cfg yolov5/models/yolov5n.yaml --weights yolov5/runs/train/yolov5n_detection/weights/last.pt --name yolov5n_detection_N --cache disk --device 0 --hyp yolov5/data/hyps/hyp.scratch-low.yaml"
   ]
  },
  {
   "cell_type": "code",
   "execution_count": null,
   "metadata": {},
   "outputs": [],
   "source": [
    "#모델 테스트\n",
    "!python yolov5/detect.py --weights yolov5/runs/train/yolov5n_detection/weights/best.pt --source militaryaircraftdetectiondataset/dataset/images/val_data/ --img 300 --conf 0.03 --iou 0.8 --device 0 --save-txt --save-conf --project yolov5/runs/test_results --name detection_test"
   ]
  }
 ],
 "metadata": {
  "kernelspec": {
   "display_name": "visual",
   "language": "python",
   "name": "python3"
  },
  "language_info": {
   "codemirror_mode": {
    "name": "ipython",
    "version": 3
   },
   "file_extension": ".py",
   "mimetype": "text/x-python",
   "name": "python",
   "nbconvert_exporter": "python",
   "pygments_lexer": "ipython3",
   "version": "3.11.9"
  }
 },
 "nbformat": 4,
 "nbformat_minor": 2
}
